{
 "cells": [
  {
   "cell_type": "code",
   "execution_count": 1,
   "id": "b14005ad-0ae9-4c89-a13c-bd3aff03278e",
   "metadata": {},
   "outputs": [],
   "source": [
    "import pandas as pd\n",
    "import numpy as np"
   ]
  },
  {
   "cell_type": "code",
   "execution_count": 13,
   "id": "f6f240a6-cf17-444f-a0d0-135f1dfe2cb6",
   "metadata": {},
   "outputs": [],
   "source": [
    "df = pd.read_csv(r'C:\\Users\\jismi\\OneDrive\\Desktop\\python for Machine Learning  Resource file\\archive1\\2024 Movies Box Ofice Collection.csv')\n"
   ]
  },
  {
   "cell_type": "code",
   "execution_count": null,
   "id": "f2069b19-d1ab-4975-ab03-5522a2ad0ea1",
   "metadata": {},
   "outputs": [],
   "source": []
  },
  {
   "cell_type": "code",
   "execution_count": 16,
   "id": "dfe0585f-bf2f-4e53-9f16-ddf557409fbd",
   "metadata": {},
   "outputs": [
    {
     "data": {
      "text/html": [
       "<div>\n",
       "<style scoped>\n",
       "    .dataframe tbody tr th:only-of-type {\n",
       "        vertical-align: middle;\n",
       "    }\n",
       "\n",
       "    .dataframe tbody tr th {\n",
       "        vertical-align: top;\n",
       "    }\n",
       "\n",
       "    .dataframe thead th {\n",
       "        text-align: right;\n",
       "    }\n",
       "</style>\n",
       "<table border=\"1\" class=\"dataframe\">\n",
       "  <thead>\n",
       "    <tr style=\"text-align: right;\">\n",
       "      <th></th>\n",
       "      <th>Unnamed: 0</th>\n",
       "      <th>Release Group</th>\n",
       "      <th>Worldwide</th>\n",
       "      <th>Domestic</th>\n",
       "      <th>Domestic_percent</th>\n",
       "      <th>Foreign</th>\n",
       "      <th>Foreign_percent</th>\n",
       "      <th>year</th>\n",
       "    </tr>\n",
       "  </thead>\n",
       "  <tbody>\n",
       "    <tr>\n",
       "      <th>0</th>\n",
       "      <td>0</td>\n",
       "      <td>Inside Out 2</td>\n",
       "      <td>1,59,59,83,694</td>\n",
       "      <td>63,78,52,840</td>\n",
       "      <td>40%</td>\n",
       "      <td>95,81,30,854</td>\n",
       "      <td>60%</td>\n",
       "      <td>2024</td>\n",
       "    </tr>\n",
       "    <tr>\n",
       "      <th>1</th>\n",
       "      <td>1</td>\n",
       "      <td>Deadpool &amp; Wolverine</td>\n",
       "      <td>1,04,31,80,185</td>\n",
       "      <td>50,69,37,007</td>\n",
       "      <td>48.60%</td>\n",
       "      <td>53,62,43,178</td>\n",
       "      <td>51.40%</td>\n",
       "      <td>2024</td>\n",
       "    </tr>\n",
       "    <tr>\n",
       "      <th>2</th>\n",
       "      <td>2</td>\n",
       "      <td>Despicable Me 4</td>\n",
       "      <td>80,85,37,571</td>\n",
       "      <td>33,25,83,715</td>\n",
       "      <td>41.10%</td>\n",
       "      <td>47,59,53,856</td>\n",
       "      <td>58.90%</td>\n",
       "      <td>2024</td>\n",
       "    </tr>\n",
       "    <tr>\n",
       "      <th>3</th>\n",
       "      <td>3</td>\n",
       "      <td>Dune: Part Two</td>\n",
       "      <td>71,18,44,358</td>\n",
       "      <td>28,21,44,358</td>\n",
       "      <td>39.60%</td>\n",
       "      <td>42,97,00,000</td>\n",
       "      <td>60.40%</td>\n",
       "      <td>2024</td>\n",
       "    </tr>\n",
       "    <tr>\n",
       "      <th>4</th>\n",
       "      <td>4</td>\n",
       "      <td>Godzilla x Kong: The New Empire</td>\n",
       "      <td>56,76,50,016</td>\n",
       "      <td>19,63,50,016</td>\n",
       "      <td>34.60%</td>\n",
       "      <td>37,13,00,000</td>\n",
       "      <td>65.40%</td>\n",
       "      <td>2024</td>\n",
       "    </tr>\n",
       "  </tbody>\n",
       "</table>\n",
       "</div>"
      ],
      "text/plain": [
       "   Unnamed: 0                    Release Group       Worldwide      Domestic  \\\n",
       "0           0                     Inside Out 2  1,59,59,83,694  63,78,52,840   \n",
       "1           1             Deadpool & Wolverine  1,04,31,80,185  50,69,37,007   \n",
       "2           2                  Despicable Me 4    80,85,37,571  33,25,83,715   \n",
       "3           3                   Dune: Part Two    71,18,44,358  28,21,44,358   \n",
       "4           4  Godzilla x Kong: The New Empire    56,76,50,016  19,63,50,016   \n",
       "\n",
       "  Domestic_percent       Foreign Foreign_percent  year  \n",
       "0              40%  95,81,30,854             60%  2024  \n",
       "1           48.60%  53,62,43,178          51.40%  2024  \n",
       "2           41.10%  47,59,53,856          58.90%  2024  \n",
       "3           39.60%  42,97,00,000          60.40%  2024  \n",
       "4           34.60%  37,13,00,000          65.40%  2024  "
      ]
     },
     "execution_count": 16,
     "metadata": {},
     "output_type": "execute_result"
    }
   ],
   "source": [
    "df.head()"
   ]
  },
  {
   "cell_type": "code",
   "execution_count": 18,
   "id": "e8c5c252-e3c9-4686-b93f-e74cc23601a7",
   "metadata": {},
   "outputs": [
    {
     "name": "stdout",
     "output_type": "stream",
     "text": [
      "<class 'pandas.core.frame.DataFrame'>\n",
      "RangeIndex: 200 entries, 0 to 199\n",
      "Data columns (total 8 columns):\n",
      " #   Column            Non-Null Count  Dtype \n",
      "---  ------            --------------  ----- \n",
      " 0   Unnamed: 0        200 non-null    int64 \n",
      " 1   Release Group     200 non-null    object\n",
      " 2   Worldwide         200 non-null    object\n",
      " 3   Domestic          200 non-null    object\n",
      " 4   Domestic_percent  200 non-null    object\n",
      " 5   Foreign           200 non-null    object\n",
      " 6   Foreign_percent   200 non-null    object\n",
      " 7   year              200 non-null    int64 \n",
      "dtypes: int64(2), object(6)\n",
      "memory usage: 12.6+ KB\n"
     ]
    }
   ],
   "source": [
    "df.info()"
   ]
  },
  {
   "cell_type": "code",
   "execution_count": 20,
   "id": "cfc16fb6-7b46-409e-a6a3-7863698632f5",
   "metadata": {},
   "outputs": [
    {
     "data": {
      "text/html": [
       "<div>\n",
       "<style scoped>\n",
       "    .dataframe tbody tr th:only-of-type {\n",
       "        vertical-align: middle;\n",
       "    }\n",
       "\n",
       "    .dataframe tbody tr th {\n",
       "        vertical-align: top;\n",
       "    }\n",
       "\n",
       "    .dataframe thead th {\n",
       "        text-align: right;\n",
       "    }\n",
       "</style>\n",
       "<table border=\"1\" class=\"dataframe\">\n",
       "  <thead>\n",
       "    <tr style=\"text-align: right;\">\n",
       "      <th></th>\n",
       "      <th>Unnamed: 0</th>\n",
       "      <th>year</th>\n",
       "    </tr>\n",
       "  </thead>\n",
       "  <tbody>\n",
       "    <tr>\n",
       "      <th>count</th>\n",
       "      <td>200.000000</td>\n",
       "      <td>200.0</td>\n",
       "    </tr>\n",
       "    <tr>\n",
       "      <th>mean</th>\n",
       "      <td>99.500000</td>\n",
       "      <td>2024.0</td>\n",
       "    </tr>\n",
       "    <tr>\n",
       "      <th>std</th>\n",
       "      <td>57.879185</td>\n",
       "      <td>0.0</td>\n",
       "    </tr>\n",
       "    <tr>\n",
       "      <th>min</th>\n",
       "      <td>0.000000</td>\n",
       "      <td>2024.0</td>\n",
       "    </tr>\n",
       "    <tr>\n",
       "      <th>25%</th>\n",
       "      <td>49.750000</td>\n",
       "      <td>2024.0</td>\n",
       "    </tr>\n",
       "    <tr>\n",
       "      <th>50%</th>\n",
       "      <td>99.500000</td>\n",
       "      <td>2024.0</td>\n",
       "    </tr>\n",
       "    <tr>\n",
       "      <th>75%</th>\n",
       "      <td>149.250000</td>\n",
       "      <td>2024.0</td>\n",
       "    </tr>\n",
       "    <tr>\n",
       "      <th>max</th>\n",
       "      <td>199.000000</td>\n",
       "      <td>2024.0</td>\n",
       "    </tr>\n",
       "  </tbody>\n",
       "</table>\n",
       "</div>"
      ],
      "text/plain": [
       "       Unnamed: 0    year\n",
       "count  200.000000   200.0\n",
       "mean    99.500000  2024.0\n",
       "std     57.879185     0.0\n",
       "min      0.000000  2024.0\n",
       "25%     49.750000  2024.0\n",
       "50%     99.500000  2024.0\n",
       "75%    149.250000  2024.0\n",
       "max    199.000000  2024.0"
      ]
     },
     "execution_count": 20,
     "metadata": {},
     "output_type": "execute_result"
    }
   ],
   "source": [
    "df.describe()"
   ]
  },
  {
   "cell_type": "code",
   "execution_count": null,
   "id": "96847b82-ecf1-473c-b796-36492e11a889",
   "metadata": {},
   "outputs": [],
   "source": []
  }
 ],
 "metadata": {
  "kernelspec": {
   "display_name": "Python [conda env:base] *",
   "language": "python",
   "name": "conda-base-py"
  },
  "language_info": {
   "codemirror_mode": {
    "name": "ipython",
    "version": 3
   },
   "file_extension": ".py",
   "mimetype": "text/x-python",
   "name": "python",
   "nbconvert_exporter": "python",
   "pygments_lexer": "ipython3",
   "version": "3.12.7"
  }
 },
 "nbformat": 4,
 "nbformat_minor": 5
}
