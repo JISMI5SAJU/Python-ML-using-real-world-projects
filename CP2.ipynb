{
 "cells": [
  {
   "cell_type": "code",
   "execution_count": 4,
   "id": "d25fd6be-e447-44e4-886c-38a2f5135f70",
   "metadata": {},
   "outputs": [],
   "source": [
    "import pandas as pd\n",
    "import numpy as np"
   ]
  },
  {
   "cell_type": "code",
   "execution_count": 6,
   "id": "99cf2019-a753-4681-a9e6-2dbda06e1969",
   "metadata": {},
   "outputs": [],
   "source": [
    "df = pd.read_csv(r'C:\\Users\\jismi\\OneDrive\\Desktop\\python for Machine Learning  Resource file\\archive1\\2024 Movies Box Ofice Collection.csv')\n"
   ]
  },
  {
   "cell_type": "code",
   "execution_count": 8,
   "id": "4048748c-affe-4891-878e-b8da6a6846fd",
   "metadata": {},
   "outputs": [
    {
     "data": {
      "text/html": [
       "<div>\n",
       "<style scoped>\n",
       "    .dataframe tbody tr th:only-of-type {\n",
       "        vertical-align: middle;\n",
       "    }\n",
       "\n",
       "    .dataframe tbody tr th {\n",
       "        vertical-align: top;\n",
       "    }\n",
       "\n",
       "    .dataframe thead th {\n",
       "        text-align: right;\n",
       "    }\n",
       "</style>\n",
       "<table border=\"1\" class=\"dataframe\">\n",
       "  <thead>\n",
       "    <tr style=\"text-align: right;\">\n",
       "      <th></th>\n",
       "      <th>Unnamed: 0</th>\n",
       "      <th>Release Group</th>\n",
       "      <th>Worldwide</th>\n",
       "      <th>Domestic</th>\n",
       "      <th>Domestic_percent</th>\n",
       "      <th>Foreign</th>\n",
       "      <th>Foreign_percent</th>\n",
       "      <th>year</th>\n",
       "    </tr>\n",
       "  </thead>\n",
       "  <tbody>\n",
       "    <tr>\n",
       "      <th>0</th>\n",
       "      <td>0</td>\n",
       "      <td>Inside Out 2</td>\n",
       "      <td>1,59,59,83,694</td>\n",
       "      <td>63,78,52,840</td>\n",
       "      <td>40%</td>\n",
       "      <td>95,81,30,854</td>\n",
       "      <td>60%</td>\n",
       "      <td>2024</td>\n",
       "    </tr>\n",
       "    <tr>\n",
       "      <th>1</th>\n",
       "      <td>1</td>\n",
       "      <td>Deadpool &amp; Wolverine</td>\n",
       "      <td>1,04,31,80,185</td>\n",
       "      <td>50,69,37,007</td>\n",
       "      <td>48.60%</td>\n",
       "      <td>53,62,43,178</td>\n",
       "      <td>51.40%</td>\n",
       "      <td>2024</td>\n",
       "    </tr>\n",
       "    <tr>\n",
       "      <th>2</th>\n",
       "      <td>2</td>\n",
       "      <td>Despicable Me 4</td>\n",
       "      <td>80,85,37,571</td>\n",
       "      <td>33,25,83,715</td>\n",
       "      <td>41.10%</td>\n",
       "      <td>47,59,53,856</td>\n",
       "      <td>58.90%</td>\n",
       "      <td>2024</td>\n",
       "    </tr>\n",
       "    <tr>\n",
       "      <th>3</th>\n",
       "      <td>3</td>\n",
       "      <td>Dune: Part Two</td>\n",
       "      <td>71,18,44,358</td>\n",
       "      <td>28,21,44,358</td>\n",
       "      <td>39.60%</td>\n",
       "      <td>42,97,00,000</td>\n",
       "      <td>60.40%</td>\n",
       "      <td>2024</td>\n",
       "    </tr>\n",
       "    <tr>\n",
       "      <th>4</th>\n",
       "      <td>4</td>\n",
       "      <td>Godzilla x Kong: The New Empire</td>\n",
       "      <td>56,76,50,016</td>\n",
       "      <td>19,63,50,016</td>\n",
       "      <td>34.60%</td>\n",
       "      <td>37,13,00,000</td>\n",
       "      <td>65.40%</td>\n",
       "      <td>2024</td>\n",
       "    </tr>\n",
       "  </tbody>\n",
       "</table>\n",
       "</div>"
      ],
      "text/plain": [
       "   Unnamed: 0                    Release Group       Worldwide      Domestic  \\\n",
       "0           0                     Inside Out 2  1,59,59,83,694  63,78,52,840   \n",
       "1           1             Deadpool & Wolverine  1,04,31,80,185  50,69,37,007   \n",
       "2           2                  Despicable Me 4    80,85,37,571  33,25,83,715   \n",
       "3           3                   Dune: Part Two    71,18,44,358  28,21,44,358   \n",
       "4           4  Godzilla x Kong: The New Empire    56,76,50,016  19,63,50,016   \n",
       "\n",
       "  Domestic_percent       Foreign Foreign_percent  year  \n",
       "0              40%  95,81,30,854             60%  2024  \n",
       "1           48.60%  53,62,43,178          51.40%  2024  \n",
       "2           41.10%  47,59,53,856          58.90%  2024  \n",
       "3           39.60%  42,97,00,000          60.40%  2024  \n",
       "4           34.60%  37,13,00,000          65.40%  2024  "
      ]
     },
     "execution_count": 8,
     "metadata": {},
     "output_type": "execute_result"
    }
   ],
   "source": [
    "df.head()"
   ]
  },
  {
   "cell_type": "code",
   "execution_count": null,
   "id": "ddf295e3-5e6e-4820-b8ec-76d4a49ae8fd",
   "metadata": {},
   "outputs": [],
   "source": []
  },
  {
   "cell_type": "code",
   "execution_count": null,
   "id": "f994ac41-dfea-4611-8cfe-306f3057ba60",
   "metadata": {},
   "outputs": [],
   "source": []
  }
 ],
 "metadata": {
  "kernelspec": {
   "display_name": "Python [conda env:base] *",
   "language": "python",
   "name": "conda-base-py"
  },
  "language_info": {
   "codemirror_mode": {
    "name": "ipython",
    "version": 3
   },
   "file_extension": ".py",
   "mimetype": "text/x-python",
   "name": "python",
   "nbconvert_exporter": "python",
   "pygments_lexer": "ipython3",
   "version": "3.12.7"
  }
 },
 "nbformat": 4,
 "nbformat_minor": 5
}
