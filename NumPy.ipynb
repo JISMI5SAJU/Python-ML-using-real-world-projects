{
 "cells": [
  {
   "cell_type": "code",
   "execution_count": 1,
   "id": "2292ebd2-b812-4eff-a09f-764e5660d6ba",
   "metadata": {},
   "outputs": [],
   "source": [
    "import numpy as np"
   ]
  },
  {
   "cell_type": "code",
   "execution_count": 91,
   "id": "9e092d97-6578-441d-8300-0c9881c4dd32",
   "metadata": {},
   "outputs": [],
   "source": [
    "my_list=[1,3,5,7,9,10,11,12,13,14,15]\n",
    "my_array=np.array(my_list)"
   ]
  },
  {
   "cell_type": "code",
   "execution_count": 5,
   "id": "52c70849-a727-419e-b625-7f7229951228",
   "metadata": {},
   "outputs": [
    {
     "data": {
      "text/plain": [
       "array([1, 3, 5, 7, 9])"
      ]
     },
     "execution_count": 5,
     "metadata": {},
     "output_type": "execute_result"
    }
   ],
   "source": [
    "my_array"
   ]
  },
  {
   "cell_type": "code",
   "execution_count": 7,
   "id": "b7ced702-d415-46a7-ab5e-923da2ea3688",
   "metadata": {},
   "outputs": [
    {
     "data": {
      "text/plain": [
       "numpy.ndarray"
      ]
     },
     "execution_count": 7,
     "metadata": {},
     "output_type": "execute_result"
    }
   ],
   "source": [
    "type(my_array)"
   ]
  },
  {
   "cell_type": "code",
   "execution_count": 9,
   "id": "02ec037a-6c1d-4695-833f-dbe750bed428",
   "metadata": {},
   "outputs": [
    {
     "data": {
      "text/plain": [
       "(5,)"
      ]
     },
     "execution_count": 9,
     "metadata": {},
     "output_type": "execute_result"
    }
   ],
   "source": [
    "my_array.shape"
   ]
  },
  {
   "cell_type": "code",
   "execution_count": 11,
   "id": "8202b957-1bd2-419c-a188-c3e6b9f9cc18",
   "metadata": {},
   "outputs": [],
   "source": [
    "#2d array\n",
    "l1=[1,2,3,4,5]\n",
    "l2=[2,3,4,5,6]\n",
    "l3=[3,4,5,6,7]\n",
    "two_d=np.array([l1,l2,l3])"
   ]
  },
  {
   "cell_type": "code",
   "execution_count": 13,
   "id": "b32823dc-7a02-44d8-98f6-f0b7c9e01cf1",
   "metadata": {},
   "outputs": [
    {
     "data": {
      "text/plain": [
       "array([[1, 2, 3, 4, 5],\n",
       "       [2, 3, 4, 5, 6],\n",
       "       [3, 4, 5, 6, 7]])"
      ]
     },
     "execution_count": 13,
     "metadata": {},
     "output_type": "execute_result"
    }
   ],
   "source": [
    "two_d"
   ]
  },
  {
   "cell_type": "code",
   "execution_count": 15,
   "id": "968aeca4-ff21-49fd-9c15-565e49ebc4af",
   "metadata": {},
   "outputs": [
    {
     "data": {
      "text/plain": [
       "(3, 5)"
      ]
     },
     "execution_count": 15,
     "metadata": {},
     "output_type": "execute_result"
    }
   ],
   "source": [
    "two_d.shape"
   ]
  },
  {
   "cell_type": "code",
   "execution_count": 17,
   "id": "55ac2d4e-8b4c-4b79-b0b2-40ac8b440c87",
   "metadata": {},
   "outputs": [
    {
     "data": {
      "text/plain": [
       "array([[1, 2, 3],\n",
       "       [4, 5, 2],\n",
       "       [3, 4, 5],\n",
       "       [6, 3, 4],\n",
       "       [5, 6, 7]])"
      ]
     },
     "execution_count": 17,
     "metadata": {},
     "output_type": "execute_result"
    }
   ],
   "source": [
    "two_d.reshape(5,3)"
   ]
  },
  {
   "cell_type": "markdown",
   "id": "6aa73e3f-7b09-41f0-8840-306733913cf2",
   "metadata": {},
   "source": [
    "# INDEXING"
   ]
  },
  {
   "cell_type": "code",
   "execution_count": null,
   "id": "826a9ad0-0849-41df-baff-59f29efbf5df",
   "metadata": {},
   "outputs": [],
   "source": [
    "#11 12 13 14 15\n",
    " 0 1 2 3 4 5\n",
    "-5 -4 -3 -2 -1"
   ]
  },
  {
   "cell_type": "code",
   "execution_count": null,
   "id": "5daa0dcd-3cad-444e-b6d0-91b9ccf0fdd4",
   "metadata": {},
   "outputs": [],
   "source": [
    "one_arr=np.array([2,4,6,8,10])"
   ]
  },
  {
   "cell_type": "code",
   "execution_count": 37,
   "id": "3d0eaeee-f4f3-476f-8277-b73f6fb7f6cb",
   "metadata": {},
   "outputs": [],
   "source": [
    "import numpy as np  # Ensure numpy is imported"
   ]
  },
  {
   "cell_type": "code",
   "execution_count": 39,
   "id": "22bfd6a3-1dde-4b89-a10e-46e668a7675b",
   "metadata": {},
   "outputs": [],
   "source": [
    "\n",
    "one_arr = np.array([2, 4, 6, 8, 10])"
   ]
  },
  {
   "cell_type": "code",
   "execution_count": 41,
   "id": "d859b6ac-a942-45f8-9ac1-13f08cab763b",
   "metadata": {},
   "outputs": [
    {
     "data": {
      "text/plain": [
       "array([ 2,  4,  6,  8, 10])"
      ]
     },
     "execution_count": 41,
     "metadata": {},
     "output_type": "execute_result"
    }
   ],
   "source": [
    "one_arr"
   ]
  },
  {
   "cell_type": "code",
   "execution_count": 43,
   "id": "fcc6b91d-c44c-4bc2-88ed-347f8a129cb4",
   "metadata": {},
   "outputs": [
    {
     "data": {
      "text/plain": [
       "10"
      ]
     },
     "execution_count": 43,
     "metadata": {},
     "output_type": "execute_result"
    }
   ],
   "source": [
    "one_arr[4]"
   ]
  },
  {
   "cell_type": "code",
   "execution_count": 51,
   "id": "caf0b84a-4b58-4042-bec1-15c61fc01430",
   "metadata": {},
   "outputs": [],
   "source": [
    "#2d array\n",
    "l1=[1,2,3,4,5]\n",
    "l2=[2,3,4,5,6]\n",
    "l3=[3,4,5,6,7]\n",
    "two_d=np.array([l1,l2,l3])"
   ]
  },
  {
   "cell_type": "code",
   "execution_count": 53,
   "id": "4d5a731f-2946-420a-939d-45c674bbaa5e",
   "metadata": {},
   "outputs": [
    {
     "data": {
      "text/plain": [
       "array([[1, 2, 3, 4, 5],\n",
       "       [2, 3, 4, 5, 6],\n",
       "       [3, 4, 5, 6, 7]])"
      ]
     },
     "execution_count": 53,
     "metadata": {},
     "output_type": "execute_result"
    }
   ],
   "source": [
    "two_d"
   ]
  },
  {
   "cell_type": "code",
   "execution_count": 55,
   "id": "1ba7fff4-eada-4a88-93a4-224892bd7a31",
   "metadata": {},
   "outputs": [
    {
     "data": {
      "text/plain": [
       "array([[1, 2, 3, 4, 5],\n",
       "       [2, 3, 4, 5, 6],\n",
       "       [3, 4, 5, 6, 7]])"
      ]
     },
     "execution_count": 55,
     "metadata": {},
     "output_type": "execute_result"
    }
   ],
   "source": [
    "two_d[:]"
   ]
  },
  {
   "cell_type": "code",
   "execution_count": 57,
   "id": "cf9ccf1b-a773-467e-bbcf-8eda49b807e9",
   "metadata": {},
   "outputs": [
    {
     "data": {
      "text/plain": [
       "array([[1, 2, 3, 4, 5],\n",
       "       [2, 3, 4, 5, 6],\n",
       "       [3, 4, 5, 6, 7]])"
      ]
     },
     "execution_count": 57,
     "metadata": {},
     "output_type": "execute_result"
    }
   ],
   "source": [
    "two_d[0:]"
   ]
  },
  {
   "cell_type": "code",
   "execution_count": 59,
   "id": "ebd0383c-4b03-4981-8472-f3efd9715815",
   "metadata": {},
   "outputs": [
    {
     "data": {
      "text/plain": [
       "array([[5, 6],\n",
       "       [6, 7]])"
      ]
     },
     "execution_count": 59,
     "metadata": {},
     "output_type": "execute_result"
    }
   ],
   "source": [
    "two_d[1:,3:]"
   ]
  },
  {
   "cell_type": "code",
   "execution_count": 61,
   "id": "5f72d33e-bd58-49e3-9f93-1dcaa55ccf30",
   "metadata": {},
   "outputs": [
    {
     "data": {
      "text/plain": [
       "array([[4, 5, 6, 7]])"
      ]
     },
     "execution_count": 61,
     "metadata": {},
     "output_type": "execute_result"
    }
   ],
   "source": [
    "two_d[2:,1:]"
   ]
  },
  {
   "cell_type": "code",
   "execution_count": 69,
   "id": "c022a1fb-006f-42bb-8832-fbfc55502305",
   "metadata": {},
   "outputs": [],
   "source": [
    "inbuilt1=np.arange(1,25)"
   ]
  },
  {
   "cell_type": "code",
   "execution_count": 71,
   "id": "c42287d3-a52a-4792-bc28-3749a95f79ae",
   "metadata": {},
   "outputs": [
    {
     "data": {
      "text/plain": [
       "array([ 1,  2,  3,  4,  5,  6,  7,  8,  9, 10, 11, 12, 13, 14, 15, 16, 17,\n",
       "       18, 19, 20, 21, 22, 23, 24])"
      ]
     },
     "execution_count": 71,
     "metadata": {},
     "output_type": "execute_result"
    }
   ],
   "source": [
    "inbuilt1"
   ]
  },
  {
   "cell_type": "code",
   "execution_count": 73,
   "id": "38bbdd8f-e2c3-479c-ae27-02ea7f96af4d",
   "metadata": {},
   "outputs": [],
   "source": [
    "inbuilt1=np.arange(1,25,3)"
   ]
  },
  {
   "cell_type": "code",
   "execution_count": 75,
   "id": "8060c69b-ca88-4c1b-bc05-9ba8eb8f6da6",
   "metadata": {},
   "outputs": [
    {
     "data": {
      "text/plain": [
       "array([ 1,  4,  7, 10, 13, 16, 19, 22])"
      ]
     },
     "execution_count": 75,
     "metadata": {},
     "output_type": "execute_result"
    }
   ],
   "source": [
    "inbuilt1"
   ]
  },
  {
   "cell_type": "code",
   "execution_count": 79,
   "id": "32f30f89-e978-4f0b-ab0a-f2612c81ab14",
   "metadata": {},
   "outputs": [],
   "source": [
    "inbuilt1=np.arange(1,30,4)"
   ]
  },
  {
   "cell_type": "code",
   "execution_count": 81,
   "id": "9b4e5022-4ba0-4243-bccf-bec15232c88c",
   "metadata": {},
   "outputs": [
    {
     "data": {
      "text/plain": [
       "array([ 1,  5,  9, 13, 17, 21, 25, 29])"
      ]
     },
     "execution_count": 81,
     "metadata": {},
     "output_type": "execute_result"
    }
   ],
   "source": [
    "inbuilt1"
   ]
  },
  {
   "cell_type": "code",
   "execution_count": 89,
   "id": "b39e3e50-a667-40c1-b684-7c98347f9995",
   "metadata": {},
   "outputs": [
    {
     "data": {
      "text/plain": [
       "array([ 1.        ,  3.78571429,  6.57142857,  9.35714286, 12.14285714,\n",
       "       14.92857143, 17.71428571, 20.5       , 23.28571429, 26.07142857,\n",
       "       28.85714286, 31.64285714, 34.42857143, 37.21428571, 40.        ])"
      ]
     },
     "execution_count": 89,
     "metadata": {},
     "output_type": "execute_result"
    }
   ],
   "source": [
    "np.linspace(1,40,15)"
   ]
  },
  {
   "cell_type": "code",
   "execution_count": null,
   "id": "385ac639-14a0-4b7f-aa6e-f739b62a7388",
   "metadata": {},
   "outputs": [],
   "source": [
    "#copy fun"
   ]
  },
  {
   "cell_type": "code",
   "execution_count": 105,
   "id": "dbb97fe6-e0bc-4ca3-8802-4c9269cb605a",
   "metadata": {},
   "outputs": [],
   "source": [
    "copy_func=np.array([1,3,5,7,9,10,11,12,13,14,15])"
   ]
  },
  {
   "cell_type": "code",
   "execution_count": 107,
   "id": "fe9dc2a8-9a97-4ddc-bd45-96de510a3943",
   "metadata": {},
   "outputs": [
    {
     "data": {
      "text/plain": [
       "array([ 1,  3,  5,  7,  9, 10, 11, 12, 13, 14, 15])"
      ]
     },
     "execution_count": 107,
     "metadata": {},
     "output_type": "execute_result"
    }
   ],
   "source": [
    "copy_func"
   ]
  },
  {
   "cell_type": "code",
   "execution_count": 109,
   "id": "87d5402f-7ad6-47ca-b982-a9885ba0a782",
   "metadata": {},
   "outputs": [],
   "source": [
    "copy_func1=copy_func"
   ]
  },
  {
   "cell_type": "code",
   "execution_count": 111,
   "id": "3f8336b1-4969-4c6e-89ea-bc3babf59297",
   "metadata": {},
   "outputs": [],
   "source": [
    "copy_func1[3:]=300"
   ]
  },
  {
   "cell_type": "code",
   "execution_count": 113,
   "id": "ca9c8607-83c5-4327-b192-c3de27da6e54",
   "metadata": {},
   "outputs": [
    {
     "name": "stdout",
     "output_type": "stream",
     "text": [
      "[  1   3   5 300 300 300 300 300 300 300 300]\n"
     ]
    }
   ],
   "source": [
    "print(copy_func1)"
   ]
  },
  {
   "cell_type": "code",
   "execution_count": 119,
   "id": "df9892b8-dde1-4386-a3f1-42662794b12a",
   "metadata": {},
   "outputs": [],
   "source": [
    "copy_func[3:]=150"
   ]
  },
  {
   "cell_type": "code",
   "execution_count": 121,
   "id": "e1ac05e8-1f71-44b8-a905-eed085ff3885",
   "metadata": {},
   "outputs": [
    {
     "name": "stdout",
     "output_type": "stream",
     "text": [
      "[  1   3   5 150 150 150 150 150 150 150 150]\n"
     ]
    }
   ],
   "source": [
    "print(copy_func)"
   ]
  },
  {
   "cell_type": "code",
   "execution_count": 123,
   "id": "e0d429e8-5403-4438-9b4a-af997317debf",
   "metadata": {},
   "outputs": [],
   "source": [
    "copy_func1=copy_func.copy()\n"
   ]
  },
  {
   "cell_type": "code",
   "execution_count": 125,
   "id": "962ca8df-2781-4dd9-81f9-e03c62b20aee",
   "metadata": {},
   "outputs": [
    {
     "name": "stdout",
     "output_type": "stream",
     "text": [
      "[  1   3   5 150 150 150 150 150 150 150 150]\n",
      "[  1   3   5 300 300 300 300 300 300 300 300]\n"
     ]
    }
   ],
   "source": [
    "print(copy_func)\n",
    "copy_func1[3:]=300\n",
    "print(copy_func1)"
   ]
  },
  {
   "cell_type": "code",
   "execution_count": 127,
   "id": "5564a61a-ffe1-45a9-b71b-412a6ee466c3",
   "metadata": {},
   "outputs": [
    {
     "name": "stdout",
     "output_type": "stream",
     "text": [
      "[  1   3   5 300 300 300 300 300 300 300 300]\n"
     ]
    }
   ],
   "source": [
    "print(copy_func1)"
   ]
  },
  {
   "cell_type": "code",
   "execution_count": 129,
   "id": "3ea3110f-05d2-48fa-9778-b542e0ee922b",
   "metadata": {},
   "outputs": [
    {
     "data": {
      "text/plain": [
       "array([ True,  True, False, False, False, False, False, False, False,\n",
       "       False, False])"
      ]
     },
     "execution_count": 129,
     "metadata": {},
     "output_type": "execute_result"
    }
   ],
   "source": [
    "var=5\n",
    "copy_func1<var"
   ]
  },
  {
   "cell_type": "code",
   "execution_count": 131,
   "id": "1dd50aa3-efe2-414b-932f-99631d9918bf",
   "metadata": {},
   "outputs": [
    {
     "data": {
      "text/plain": [
       "array([300, 300, 300, 300, 300, 300, 300, 300])"
      ]
     },
     "execution_count": 131,
     "metadata": {},
     "output_type": "execute_result"
    }
   ],
   "source": [
    "copy_func1[copy_func1>var]"
   ]
  },
  {
   "cell_type": "code",
   "execution_count": 133,
   "id": "add7fb4d-d239-4a9c-a4ff-91a13c8d7b15",
   "metadata": {},
   "outputs": [
    {
     "data": {
      "text/plain": [
       "array([1., 1., 1., 1.])"
      ]
     },
     "execution_count": 133,
     "metadata": {},
     "output_type": "execute_result"
    }
   ],
   "source": [
    "np.ones(4)"
   ]
  },
  {
   "cell_type": "code",
   "execution_count": 93,
   "id": "708b0974-602d-4468-9fd4-473ac1c3fecd",
   "metadata": {},
   "outputs": [
    {
     "data": {
      "text/plain": [
       "array([ 1,  3,  5,  7,  9, 10, 11, 12, 13, 14, 15])"
      ]
     },
     "execution_count": 93,
     "metadata": {},
     "output_type": "execute_result"
    }
   ],
   "source": [
    "my_array"
   ]
  },
  {
   "cell_type": "code",
   "execution_count": 95,
   "id": "aac61437-bde3-44d0-bed0-d315635eed96",
   "metadata": {},
   "outputs": [],
   "source": [
    "my_array1=my_array"
   ]
  },
  {
   "cell_type": "code",
   "execution_count": 97,
   "id": "bfc8a062-ed71-4bbc-b622-13234a40367a",
   "metadata": {},
   "outputs": [],
   "source": [
    "my_array1[3:]=400"
   ]
  },
  {
   "cell_type": "code",
   "execution_count": 99,
   "id": "526588bc-4e65-4f35-be5d-e808637e998f",
   "metadata": {},
   "outputs": [
    {
     "name": "stdout",
     "output_type": "stream",
     "text": [
      "[  1   3   5 400 400 400 400 400 400 400 400]\n"
     ]
    }
   ],
   "source": [
    "print(my_array1)"
   ]
  },
  {
   "cell_type": "code",
   "execution_count": 101,
   "id": "67a8c683-412e-415f-accc-8efa2cbbf2de",
   "metadata": {},
   "outputs": [],
   "source": [
    "my_array1[:3]=100"
   ]
  },
  {
   "cell_type": "code",
   "execution_count": 103,
   "id": "7ca49a1d-445c-4efb-880d-f514b349ea31",
   "metadata": {},
   "outputs": [
    {
     "name": "stdout",
     "output_type": "stream",
     "text": [
      "[100 100 100 400 400 400 400 400 400 400 400]\n"
     ]
    }
   ],
   "source": [
    "print(my_array1)"
   ]
  },
  {
   "cell_type": "code",
   "execution_count": null,
   "id": "29422e26-ca98-4862-8203-3da796b64d32",
   "metadata": {},
   "outputs": [],
   "source": []
  }
 ],
 "metadata": {
  "kernelspec": {
   "display_name": "Python [conda env:base] *",
   "language": "python",
   "name": "conda-base-py"
  },
  "language_info": {
   "codemirror_mode": {
    "name": "ipython",
    "version": 3
   },
   "file_extension": ".py",
   "mimetype": "text/x-python",
   "name": "python",
   "nbconvert_exporter": "python",
   "pygments_lexer": "ipython3",
   "version": "3.12.7"
  }
 },
 "nbformat": 4,
 "nbformat_minor": 5
}
