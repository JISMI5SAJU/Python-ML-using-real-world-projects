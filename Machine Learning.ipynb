{
 "cells": [
  {
   "cell_type": "code",
   "execution_count": 5,
   "id": "1d88a70c-815f-4003-9b92-e371d4432349",
   "metadata": {},
   "outputs": [
    {
     "name": "stdout",
     "output_type": "stream",
     "text": [
      "Hello guys!!\n"
     ]
    }
   ],
   "source": [
    "print(\"Hello guys!!\")"
   ]
  },
  {
   "cell_type": "code",
   "execution_count": 9,
   "id": "a20d4482-5e8f-4da9-a1eb-c209f6567ef4",
   "metadata": {},
   "outputs": [
    {
     "name": "stdout",
     "output_type": "stream",
     "text": [
      "ONE\n"
     ]
    }
   ],
   "source": [
    "one='ONE'\n",
    "print(one)"
   ]
  },
  {
   "cell_type": "code",
   "execution_count": 15,
   "id": "751ce95a-3bd0-49d6-94df-b21f4c4557f0",
   "metadata": {},
   "outputs": [
    {
     "data": {
      "text/plain": [
       "str"
      ]
     },
     "execution_count": 15,
     "metadata": {},
     "output_type": "execute_result"
    }
   ],
   "source": [
    "letter='Dalia'\n",
    "type(letter)"
   ]
  },
  {
   "cell_type": "code",
   "execution_count": 17,
   "id": "e9e5f5e1-7bbc-4639-a2e1-9d367536dc72",
   "metadata": {},
   "outputs": [
    {
     "data": {
      "text/plain": [
       "float"
      ]
     },
     "execution_count": 17,
     "metadata": {},
     "output_type": "execute_result"
    }
   ],
   "source": [
    "decimal=67.09\n",
    "type(decimal)"
   ]
  },
  {
   "cell_type": "code",
   "execution_count": 21,
   "id": "d5560c0e-92c3-4b03-a192-13311988e9a2",
   "metadata": {},
   "outputs": [
    {
     "data": {
      "text/plain": [
       "bool"
      ]
     },
     "execution_count": 21,
     "metadata": {},
     "output_type": "execute_result"
    }
   ],
   "source": [
    "type(False)"
   ]
  },
  {
   "cell_type": "code",
   "execution_count": 23,
   "id": "93f2882d-ee70-4e27-ac88-3b797a33a111",
   "metadata": {},
   "outputs": [
    {
     "name": "stdout",
     "output_type": "stream",
     "text": [
      "['amal', 30, 56.43, True]\n"
     ]
    }
   ],
   "source": [
    "#list\n",
    "good=['amal',30,56.43,True]\n",
    "print(good)"
   ]
  },
  {
   "cell_type": "code",
   "execution_count": 25,
   "id": "9ae8c633-0cff-48eb-af38-d1462c502ad0",
   "metadata": {},
   "outputs": [],
   "source": [
    "#dictionaries\n",
    "dict={\n",
    "    \"key1\":\"maria\",\n",
    "    \"key2\":\"tankamma\",\n",
    "    \"key3\":\"jolia\"\n",
    "}"
   ]
  },
  {
   "cell_type": "code",
   "execution_count": null,
   "id": "43b9ad92-e06a-4822-8d89-75d63339f190",
   "metadata": {},
   "outputs": [],
   "source": []
  }
 ],
 "metadata": {
  "kernelspec": {
   "display_name": "Python [conda env:base] *",
   "language": "python",
   "name": "conda-base-py"
  },
  "language_info": {
   "codemirror_mode": {
    "name": "ipython",
    "version": 3
   },
   "file_extension": ".py",
   "mimetype": "text/x-python",
   "name": "python",
   "nbconvert_exporter": "python",
   "pygments_lexer": "ipython3",
   "version": "3.12.7"
  }
 },
 "nbformat": 4,
 "nbformat_minor": 5
}
